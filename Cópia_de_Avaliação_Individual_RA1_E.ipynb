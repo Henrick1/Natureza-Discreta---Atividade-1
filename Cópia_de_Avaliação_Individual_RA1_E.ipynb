{
  "nbformat": 4,
  "nbformat_minor": 0,
  "metadata": {
    "colab": {
      "provenance": [],
      "include_colab_link": true
    },
    "kernelspec": {
      "name": "python3",
      "display_name": "Python 3"
    },
    "language_info": {
      "name": "python"
    }
  },
  "cells": [
    {
      "cell_type": "markdown",
      "metadata": {
        "id": "view-in-github",
        "colab_type": "text"
      },
      "source": [
        "<a href=\"https://colab.research.google.com/github/Henrick1/Natureza-Discreta---Atividade-1/blob/main/C%C3%B3pia_de_Avalia%C3%A7%C3%A3o_Individual_RA1_E.ipynb\" target=\"_parent\"><img src=\"https://colab.research.google.com/assets/colab-badge.svg\" alt=\"Open In Colab\"/></a>"
      ]
    },
    {
      "cell_type": "markdown",
      "source": [],
      "metadata": {
        "id": "H3706UvNLD6M"
      }
    },
    {
      "cell_type": "markdown",
      "source": [
        "# Instruções:\n",
        "Para a realização desta tarefa você precisa fazer uma cópia deste carderno de questões para a sua conta. Você responderá a questão colando no AVA o link para a sua cópia contendo as suas respostas. \n",
        "\n",
        "Todas as questões precisam ser resolvidas algébrica e computacionalmente. Usando todos os recursos computacionais disponíveis na internet. Mas, você não pode consultar outros seres humanos. \n",
        "\n",
        "**Não se equeça de preencher seu nome nesta célula:**\n",
        "# Henrique Tetilha Golias\n"
      ],
      "metadata": {
        "id": "tNp1k47LJe0G"
      }
    },
    {
      "cell_type": "markdown",
      "source": [
        "5. Juros compostos em investimentos:\n",
        "\n",
        "Um investidor aplica R$ 5.000 em uma conta de poupança com uma taxa de juros anual de 6% composta mensalmente. Qual será o saldo da conta após 10 anos? Use a fórmula:\n",
        "\n",
        "$$\n",
        "A(t) = P \\cdot (1 + \\frac{r}{n})^{n \\cdot t}\n",
        "$$\n",
        "\n",
        "onde $A(t)$ é o saldo após $t$ anos, $P$ é o principal investido, $r$ é a taxa de juros anual, $n$ é o número de vezes que os juros são compostos por ano e $t$ é o tempo em anos. Não se esqueça de traçar um gráfico mostrando os juros, ano a ano nos próximos 20 anos.\n",
        "\n",
        "**R:** *Após 10 anos, o saldo da conta será 8979,28*"
      ],
      "metadata": {
        "id": "j92ojVjTLSfL"
      }
    },
    {
      "cell_type": "code",
      "execution_count": 13,
      "metadata": {
        "id": "7gJpguxELC57",
        "colab": {
          "base_uri": "https://localhost:8080/",
          "height": 295
        },
        "outputId": "e6440e5f-e0c7-4568-d695-31bfeec33d08"
      },
      "outputs": [
        {
          "output_type": "display_data",
          "data": {
            "text/plain": [
              "<Figure size 432x288 with 1 Axes>"
            ],
            "image/png": "[encoded data removed]"
          },
          "metadata": {
            "needs_background": "light"
          }
        }
      ],
      "source": [
        "import matplotlib.pyplot as plt\n",
        "import numpy as np\n",
        "\n",
        "# Definir as variáveis iniciais\n",
        "p = 5000   # Valor inicial\n",
        "r = 0.06   # Taxa de juros anual\n",
        "n = 12     # Número de períodos compostos por ano\n",
        "t = 20     # Número de anos\n",
        "\n",
        "# Calcular o valor futuro para cada ano\n",
        "years = np.arange(1, t+1)\n",
        "fv = p * (1 + r/n) ** (n * years)\n",
        "\n",
        "# Criar o gráfico de colunas anuais\n",
        "plt.bar(years, fv-p, align='center', alpha=0.5)\n",
        "plt.xticks(years)\n",
        "plt.ylabel('Valor acumulado')\n",
        "plt.xlabel('Anos')\n",
        "plt.title('Gráfico de colunas anuais')\n",
        "plt.show()\n"
      ]
    },
    {
      "cell_type": "markdown",
      "source": [
        "# Questão 2\n",
        "Usando, a seu critério, as bibliotecas do Python, crie um gráfico para cada uma das funções a seguir. No label do gráfico deverá estar a função impressa com qualidade matemática (latex) e uma label dizendo se a função é crescente ou decrescente. \n",
        "\n",
        "1. $4^{x+2} - 2^{x+1} = 12$\n",
        "\n",
        "2. $\\log_{4}(x^2 - 4) - 2\\log_{4}(x - 2) = 0$"
      ],
      "metadata": {
        "id": "rc3vXhGLQIBZ"
      }
    },
    {
      "cell_type": "code",
      "source": [
        "#1\n",
        "import matplotlib.pyplot as plt\n",
        "import numpy as np\n",
        "\n",
        "# Define a função\n",
        "def f(x):\n",
        "    return 4**(x+2) - 2**(x-1)\n",
        "\n",
        "# Gera um array com valores de x\n",
        "x = np.linspace(-10, 10, 1000)\n",
        "\n",
        "# Calcula os valores da função para cada valor de x\n",
        "y = f(x)\n",
        "\n",
        "# Plota o gráfico\n",
        "plt.plot(x, y)\n",
        "\n",
        "# Identifica se a função é crescente ou decrescente\n",
        "if y[-1] > y[0]:\n",
        "    label = \"Função crescente\"\n",
        "else:\n",
        "    label = \"Função decrescente\"\n",
        "\n",
        "# Escreve a label com as funções\n",
        "plt.xlabel(\"x\")\n",
        "plt.ylabel(\"f(x)\")\n",
        "plt.title(\"Gráfico da função $4^{x+2} - 2^{x-1}$\")\n",
        "plt.text(-10, 1000, label)\n",
        "\n",
        "# Exibe o gráfico\n",
        "plt.show()"
      ],
      "metadata": {
        "id": "Cz8fwuFfQRGZ",
        "colab": {
          "base_uri": "https://localhost:8080/",
          "height": 299
        },
        "outputId": "3a89fb96-22cb-44b6-cf96-13102b0b9afe"
      },
      "execution_count": 18,
      "outputs": [
        {
          "output_type": "display_data",
          "data": {
            "text/plain": [
              "<Figure size 432x288 with 1 Axes>"
            ],
            "image/png": "[encoded data removed]"
          },
          "metadata": {
            "needs_background": "light"
          }
        }
      ]
    },
    {
      "cell_type": "code",
      "source": [
        "#2\n",
        "import numpy as np\n",
        "import matplotlib.pyplot as plt\n",
        "\n",
        "# Define a função e o domínio\n",
        "def f(x):\n",
        "    return np.log2(x**2 - 4) / np.log2(4) - 2*np.log2(x - 2) / np.log2(4)\n",
        "\n",
        "x = np.linspace(2.1, 3.9, 1000)\n",
        "\n",
        "# Plota o gráfico\n",
        "plt.plot(x, f(x))\n",
        "\n",
        "# Verifica a monotonicidade da função\n",
        "df = (2*x) / ((x-2) * (x**2-4) * np.log(4))\n",
        "if np.all(df > 0):\n",
        "    label = r\"$\\log_4(x^2-4)-2\\log_4(x-2)$ é decrescente\"\n",
        "elif np.all(df < 0):\n",
        "    label = r\"$\\log_4(x^2-4)-2\\log_4(x-2)$ é crescente\"\n",
        "else:\n",
        "    label = r\"$\\log_4(x^2-4)-2\\log_4(x-2)$ não é monotônica\"\n",
        "\n",
        "# Adiciona a informação sobre a monotonicidade no gráfico\n",
        "plt.title(label)\n",
        "\n",
        "# Mostra o gráfico\n",
        "plt.show()"
      ],
      "metadata": {
        "colab": {
          "base_uri": "https://localhost:8080/",
          "height": 285
        },
        "id": "oYUmC1PGRFw4",
        "outputId": "9026335e-d2f8-491a-8e29-7a29602148ff"
      },
      "execution_count": 24,
      "outputs": [
        {
          "output_type": "display_data",
          "data": {
            "text/plain": [
              "<Figure size 432x288 with 1 Axes>"
            ],
            "image/png": "[encoded data removed]"
          },
          "metadata": {
            "needs_background": "light"
          }
        }
      ]
    },
    {
      "cell_type": "markdown",
      "source": [
        "# Questão 3\n",
        "Usando o Sympy, ou qualquer outro recurso disponível na internet, escreva, com qualidade matemática, o passo-a-passo algébrico que leva a determinação dos indicados a seguir. Ao final, para cada uma das equações, você deverá traçar um gráfico da função. \n",
        "\n",
        "1. $\\lim_{x \\to 0} \\frac{e^{2x} - 1}{\\sin(x)}$\n",
        "\n",
        "2. $\\lim_{x \\to 0} \\frac{\\tan(x) - x}{x^3}$"
      ],
      "metadata": {
        "id": "p1up2YibSrn3"
      }
    },
    {
      "cell_type": "code",
      "source": [
        "#1 \n",
        "from sympy import *\n",
        "x = symbols('x')\n",
        "expr = (exp(2*x) - 1) / sin(x)\n",
        "limite = limit(expr, x, 0)\n",
        "print(\"O limite é: \", latex(limite))\n",
        "\n",
        "\n",
        "# Mostra o gráfico\n",
        "plt.show()"
      ],
      "metadata": {
        "colab": {
          "base_uri": "https://localhost:8080/"
        },
        "id": "eLT1QognejWZ",
        "outputId": "0b014be0-a2e6-481f-f480-90dc6a09d265"
      },
      "execution_count": 40,
      "outputs": [
        {
          "output_type": "stream",
          "name": "stdout",
          "text": [
            "O limite é:  2\n"
          ]
        }
      ]
    },
    {
      "cell_type": "code",
      "source": [
        "from sympy import *\n",
        "\n",
        "x = symbols('x')\n",
        "expr = (tan(x) - x)/x**3\n",
        "\n",
        "# Simplifica a expressão e mostra o passo a passo\n",
        "expr_simp = expr.simplify()\n",
        "print(\"Simplificação da expressão:\")\n",
        "print(latex(expr), r\"=\", latex(expr_simp))\n",
        "print()\n",
        "\n",
        "# Calcula a derivada da expressão e mostra o passo a passo\n",
        "deriv = diff(expr_simp, x)\n",
        "print(\"Derivada da expressão simplificada:\")\n",
        "print(r\"$\\frac{d}{dx}$\", latex(expr_simp), r\"=\", latex(deriv))\n",
        "print()\n",
        "\n",
        "# Calcula o limite e mostra o passo a passo\n",
        "lim = limit(expr, x, 0)\n",
        "print(\"Cálculo do limite:\")\n",
        "print(r\"$\\lim_{x \\to 0}$\", latex(expr), r\"=\", latex(lim))\n",
        "print()\n",
        "\n",
        "# Mostra o resultado final\n",
        "print(\"Resultado final:\")\n",
        "print(r\"$\\lim_{x \\to 0}$\", latex(expr), r\"=\", latex(lim))"
      ],
      "metadata": {
        "colab": {
          "base_uri": "https://localhost:8080/"
        },
        "id": "B_QvpE1GgLBL",
        "outputId": "0cbfacd6-4a90-4beb-9c1e-da11ad718de6"
      },
      "execution_count": 42,
      "outputs": [
        {
          "output_type": "stream",
          "name": "stdout",
          "text": [
            "Simplificação da expressão:\n",
            "\\frac{- x + \\tan{\\left(x \\right)}}{x^{3}} = \\frac{- x + \\tan{\\left(x \\right)}}{x^{3}}\n",
            "\n",
            "Derivada da expressão simplificada:\n",
            "$\\frac{d}{dx}$ \\frac{- x + \\tan{\\left(x \\right)}}{x^{3}} = \\frac{\\tan^{2}{\\left(x \\right)}}{x^{3}} - \\frac{3 \\left(- x + \\tan{\\left(x \\right)}\\right)}{x^{4}}\n",
            "\n",
            "Cálculo do limite:\n",
            "$\\lim_{x \\to 0}$ \\frac{- x + \\tan{\\left(x \\right)}}{x^{3}} = \\frac{1}{3}\n",
            "\n",
            "Resultado final:\n",
            "$\\lim_{x \\to 0}$ \\frac{- x + \\tan{\\left(x \\right)}}{x^{3}} = \\frac{1}{3}\n"
          ]
        }
      ]
    },
    {
      "cell_type": "code",
      "source": [
        "#2\n",
        "import numpy as np\n",
        "import matplotlib.pyplot as plt\n",
        "from sympy import *\n",
        "\n",
        "\n",
        "x = symbols('x')\n",
        "\n",
        "f = (tan(x) - x)/(x**3)\n",
        "limite = limit(f, x, 0)\n",
        "\n",
        "limite_simp = simplify(limite)\n",
        "\n",
        "print(limite_simp)\n",
        "\n",
        "# Define o intervalo de valores de x para o gráfico\n",
        "x_vals = np.linspace(-np.pi/2, np.pi/2, 1000)\n",
        "\n",
        "# Define a função f(x)\n",
        "f = lambda x: (np.tan(x) - x)/(x**3)\n",
        "\n",
        "# Calcula os valores de f(x) para cada valor de x no intervalo\n",
        "y_vals = f(x_vals)\n",
        "\n",
        "# Plota o gráfico da função\n",
        "plt.plot(x_vals, y_vals)\n",
        "plt.xlabel('x')\n",
        "plt.ylabel('f(x)')\n",
        "plt.title('Gráfico da função $tan(x)-x/x^3$')\n",
        "plt.show()"
      ],
      "metadata": {
        "colab": {
          "base_uri": "https://localhost:8080/",
          "height": 316
        },
        "id": "nPizy1KaaolN",
        "outputId": "02ca168a-21ac-42ec-c5b1-3d8dabb0156d"
      },
      "execution_count": 37,
      "outputs": [
        {
          "output_type": "stream",
          "name": "stdout",
          "text": [
            "1/3\n"
          ]
        },
        {
          "output_type": "display_data",
          "data": {
            "text/plain": [
              "<Figure size 432x288 with 1 Axes>"
            ],
            "image/png": "[encoded data removed]"
          },
          "metadata": {
            "needs_background": "light"
          }
        }
      ]
    }
  ]
}